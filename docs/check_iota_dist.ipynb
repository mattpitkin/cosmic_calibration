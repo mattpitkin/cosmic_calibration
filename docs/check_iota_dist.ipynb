{
 "cells": [
  {
   "cell_type": "markdown",
   "metadata": {},
   "source": [
    "# Testing the orientation distribution of GRBs\n",
    "\n",
    "Let us assume that the jet opening angle, $\\theta_j$, of short GRBs is that given by Figure 3 of [Fong _et al_ (2014)](http://arxiv.org/abs/1309.7479). We can model this as a [Rayleigh distribution](https://en.wikipedia.org/wiki/Rayleigh_distribution) with a median of 10 degrees, or mode of 5 degrees, and a probability distribution of\n",
    "$$\n",
    "p(\\theta_j|\\sigma) = \\frac{x}{\\sigma^2}e^{-\\theta_j^2/(2\\sigma^2)},\n",
    "$$\n",
    "where $\\sigma = \\frac{m_1}{\\sqrt{2\\ln{2}}}$ for a median value $m_1$ or $\\sigma = m_2$ for a mode value of $m_2$.\n",
    "\n",
    "What we actually want is the distribution of orientations, $\\iota$, of the GRBs $p(\\iota|\\sigma=5)$. This will be given by\n",
    "$$\n",
    "p(\\iota|\\sigma=5) = \\int_{\\theta_j} p(\\iota|\\theta_j)p(\\theta_j|\\sigma=5) \\mathrm{d}\\theta_j.\n",
    "$$\n",
    "If we can assume that the distribution $p(\\iota|\\theta_j)$ is a [Heaviside step function](https://en.wikipedia.org/wiki/Heaviside_step_function), i.e. the beam has a sharp detectable boundary, then\n",
    "$$\n",
    "p(\\iota|\\theta_j) = H[\\theta_j |\\iota)|] = \\begin{array}{cc} 0 & \\textrm{when } \\theta_j - |\\iota| < 0 \\\\\n",
    "1 & \\textrm{when } \\theta_j - |\\iota| \\ge 0.\n",
    "\\end{array}\n",
    "$$\n",
    "If we're just interesting in the positive $\\iota$ values then we can perform this integral over a range of values from 0 to 90 degrees."
   ]
  },
  {
   "cell_type": "code",
   "execution_count": 21,
   "metadata": {
    "collapsed": true
   },
   "outputs": [],
   "source": [
    "%matplotlib inline\n",
    "\n",
    "import numpy as np\n",
    "from matplotlib import pyplot as pl"
   ]
  },
  {
   "cell_type": "code",
   "execution_count": 40,
   "metadata": {
    "collapsed": false
   },
   "outputs": [
    {
     "data": {
      "text/plain": [
       "<matplotlib.legend.Legend at 0x7f652446e850>"
      ]
     },
     "execution_count": 40,
     "metadata": {},
     "output_type": "execute_result"
    },
    {
     "data": {
      "image/png": "[encoded data removed]",
      "text/plain": [
       "<matplotlib.figure.Figure at 0x7f652432eb10>"
      ]
     },
     "metadata": {},
     "output_type": "display_data"
    }
   ],
   "source": [
    "iotas = np.linspace(0., np.pi/2., 250)\n",
    "\n",
    "def heaviside(vals, pos):\n",
    "    # Heaviside step function\n",
    "    f = np.zeros(len(vals))\n",
    "    f[vals > pos] = 1.\n",
    "    return f\n",
    "\n",
    "def rayleigh(vals, sigma):\n",
    "    # Rayleigh distribution\n",
    "    f = (vals/sigma**2)*np.exp(-vals**2/(2*sigma**2))\n",
    "    return f\n",
    "\n",
    "piota = np.zeros(len(iotas))\n",
    "thetas = np.linspace(0, np.pi/2, 250)\n",
    "\n",
    "median = 10.*np.pi/180. # median of 10 degrees\n",
    "mode = 5.*np.pi/180.    # mode of 5 degrees\n",
    "\n",
    "sigmas = [median/np.sqrt(2.*np.log(2.)), mode]\n",
    "colors = ['b', 'b--']\n",
    "labels = ['median', 'mode']\n",
    "\n",
    "for j, sigma in enumerate(sigmas):\n",
    "    rthetas = rayleigh(thetas, sigma)\n",
    "    for i, iota in enumerate(iotas):\n",
    "        piota[i] = np.trapz(rthetas*heaviside(thetas, iota))\n",
    "\n",
    "    piota = piota/np.trapz(piota, iotas)\n",
    "    pl.plot(iotas*180./np.pi, piota, colors[j], label=labels[j])\n",
    "\n",
    "pl.xlim((0, 90.))\n",
    "\n",
    "# plot a Gaussian of standard deviation 14.8 degrees\n",
    "sg = 14.8*np.pi/180.\n",
    "g = (2./(np.sqrt(2.*np.pi)*sg))*np.exp(-(iotas**2)/(2.*sg**2)) # multiplicative factor of 2 for normalisation of half width Gaussian\n",
    "pl.plot(iotas*180./np.pi, g, 'r', label='Gaussian, $\\sigma=14.8$ degs')\n",
    "\n",
    "pl.xlabel('$\\iota$ (degs)')\n",
    "pl.ylabel('$p(\\iota|\\sigma)$')\n",
    "pl.legend()"
   ]
  },
  {
   "cell_type": "markdown",
   "metadata": {
    "collapsed": true
   },
   "source": [
    "The above plot shows that using a Rayleigh distribution with the median of mode of the jet opening angles given by [Fong _et al_ (2014)](http://arxiv.org/abs/1309.7479) actually leads to narrower distributions of the source orientation angle than we have used. "
   ]
  },
  {
   "cell_type": "code",
   "execution_count": null,
   "metadata": {
    "collapsed": true
   },
   "outputs": [],
   "source": []
  }
 ],
 "metadata": {
  "kernelspec": {
   "display_name": "Python 2",
   "language": "python",
   "name": "python2"
  },
  "language_info": {
   "codemirror_mode": {
    "name": "ipython",
    "version": 2
   },
   "file_extension": ".py",
   "mimetype": "text/x-python",
   "name": "python",
   "nbconvert_exporter": "python",
   "pygments_lexer": "ipython2",
   "version": "2.7.6"
  }
 },
 "nbformat": 4,
 "nbformat_minor": 0
}
